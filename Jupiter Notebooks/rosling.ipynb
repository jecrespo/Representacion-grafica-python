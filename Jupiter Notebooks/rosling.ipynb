{
 "cells": [
  {
   "cell_type": "code",
   "execution_count": 15,
   "metadata": {},
   "outputs": [],
   "source": [
    "%matplotlib widget\n",
    "import pandas as pd\n",
    "import matplotlib.pyplot as plt"
   ]
  },
  {
   "cell_type": "code",
   "execution_count": 16,
   "metadata": {},
   "outputs": [],
   "source": [
    "# Descargamos los datos"
   ]
  },
  {
   "cell_type": "code",
   "execution_count": 31,
   "metadata": {},
   "outputs": [],
   "source": [
    "url = 'https://python-graph-gallery.com/wp-content/uploads/gapminderData.csv'\n",
    "data = pd.read_csv(url)"
   ]
  },
  {
   "cell_type": "code",
   "execution_count": 32,
   "metadata": {},
   "outputs": [
    {
     "name": "stdout",
     "output_type": "stream",
     "text": [
      "<class 'pandas.core.frame.DataFrame'>\n",
      "RangeIndex: 1704 entries, 0 to 1703\n",
      "Data columns (total 6 columns):\n",
      "country      1704 non-null object\n",
      "year         1704 non-null int64\n",
      "pop          1704 non-null float64\n",
      "continent    1704 non-null object\n",
      "lifeExp      1704 non-null float64\n",
      "gdpPercap    1704 non-null float64\n",
      "dtypes: float64(3), int64(1), object(2)\n",
      "memory usage: 80.0+ KB\n"
     ]
    }
   ],
   "source": [
    "data.info()"
   ]
  },
  {
   "cell_type": "code",
   "execution_count": 36,
   "metadata": {},
   "outputs": [],
   "source": [
    "# Convertimos la clase continente a 'categórica'\n",
    "data['continent']=pd.Categorical(data['continent'])"
   ]
  },
  {
   "cell_type": "code",
   "execution_count": 37,
   "metadata": {},
   "outputs": [
    {
     "name": "stdout",
     "output_type": "stream",
     "text": [
      "<class 'pandas.core.frame.DataFrame'>\n",
      "RangeIndex: 1704 entries, 0 to 1703\n",
      "Data columns (total 6 columns):\n",
      "country      1704 non-null object\n",
      "year         1704 non-null int64\n",
      "pop          1704 non-null float64\n",
      "continent    1704 non-null category\n",
      "lifeExp      1704 non-null float64\n",
      "gdpPercap    1704 non-null float64\n",
      "dtypes: category(1), float64(3), int64(1), object(1)\n",
      "memory usage: 68.5+ KB\n"
     ]
    }
   ],
   "source": [
    "data.info()"
   ]
  },
  {
   "cell_type": "code",
   "execution_count": 40,
   "metadata": {},
   "outputs": [
    {
     "data": {
      "text/plain": [
       "0         Asia\n",
       "1         Asia\n",
       "2         Asia\n",
       "3         Asia\n",
       "4         Asia\n",
       "5         Asia\n",
       "6         Asia\n",
       "7         Asia\n",
       "8         Asia\n",
       "9         Asia\n",
       "10        Asia\n",
       "11        Asia\n",
       "12      Europe\n",
       "13      Europe\n",
       "14      Europe\n",
       "15      Europe\n",
       "16      Europe\n",
       "17      Europe\n",
       "18      Europe\n",
       "19      Europe\n",
       "20      Europe\n",
       "21      Europe\n",
       "22      Europe\n",
       "23      Europe\n",
       "24      Africa\n",
       "25      Africa\n",
       "26      Africa\n",
       "27      Africa\n",
       "28      Africa\n",
       "29      Africa\n",
       "         ...  \n",
       "1674      Asia\n",
       "1675      Asia\n",
       "1676      Asia\n",
       "1677      Asia\n",
       "1678      Asia\n",
       "1679      Asia\n",
       "1680    Africa\n",
       "1681    Africa\n",
       "1682    Africa\n",
       "1683    Africa\n",
       "1684    Africa\n",
       "1685    Africa\n",
       "1686    Africa\n",
       "1687    Africa\n",
       "1688    Africa\n",
       "1689    Africa\n",
       "1690    Africa\n",
       "1691    Africa\n",
       "1692    Africa\n",
       "1693    Africa\n",
       "1694    Africa\n",
       "1695    Africa\n",
       "1696    Africa\n",
       "1697    Africa\n",
       "1698    Africa\n",
       "1699    Africa\n",
       "1700    Africa\n",
       "1701    Africa\n",
       "1702    Africa\n",
       "1703    Africa\n",
       "Name: continent, Length: 1704, dtype: category\n",
       "Categories (5, object): [Africa, Americas, Asia, Europe, Oceania]"
      ]
     },
     "execution_count": 40,
     "metadata": {},
     "output_type": "execute_result"
    }
   ],
   "source": [
    "data.continent"
   ]
  },
  {
   "cell_type": "code",
   "execution_count": 39,
   "metadata": {},
   "outputs": [
    {
     "data": {
      "text/plain": [
       "0       2\n",
       "1       2\n",
       "2       2\n",
       "3       2\n",
       "4       2\n",
       "5       2\n",
       "6       2\n",
       "7       2\n",
       "8       2\n",
       "9       2\n",
       "10      2\n",
       "11      2\n",
       "12      3\n",
       "13      3\n",
       "14      3\n",
       "15      3\n",
       "16      3\n",
       "17      3\n",
       "18      3\n",
       "19      3\n",
       "20      3\n",
       "21      3\n",
       "22      3\n",
       "23      3\n",
       "24      0\n",
       "25      0\n",
       "26      0\n",
       "27      0\n",
       "28      0\n",
       "29      0\n",
       "       ..\n",
       "1674    2\n",
       "1675    2\n",
       "1676    2\n",
       "1677    2\n",
       "1678    2\n",
       "1679    2\n",
       "1680    0\n",
       "1681    0\n",
       "1682    0\n",
       "1683    0\n",
       "1684    0\n",
       "1685    0\n",
       "1686    0\n",
       "1687    0\n",
       "1688    0\n",
       "1689    0\n",
       "1690    0\n",
       "1691    0\n",
       "1692    0\n",
       "1693    0\n",
       "1694    0\n",
       "1695    0\n",
       "1696    0\n",
       "1697    0\n",
       "1698    0\n",
       "1699    0\n",
       "1700    0\n",
       "1701    0\n",
       "1702    0\n",
       "1703    0\n",
       "Length: 1704, dtype: int8"
      ]
     },
     "execution_count": 39,
     "metadata": {},
     "output_type": "execute_result"
    }
   ],
   "source": [
    "data.continent.cat.codes"
   ]
  },
  {
   "cell_type": "code",
   "execution_count": 21,
   "metadata": {},
   "outputs": [
    {
     "data": {
      "text/html": [
       "<div>\n",
       "<style scoped>\n",
       "    .dataframe tbody tr th:only-of-type {\n",
       "        vertical-align: middle;\n",
       "    }\n",
       "\n",
       "    .dataframe tbody tr th {\n",
       "        vertical-align: top;\n",
       "    }\n",
       "\n",
       "    .dataframe thead th {\n",
       "        text-align: right;\n",
       "    }\n",
       "</style>\n",
       "<table border=\"1\" class=\"dataframe\">\n",
       "  <thead>\n",
       "    <tr style=\"text-align: right;\">\n",
       "      <th></th>\n",
       "      <th>country</th>\n",
       "      <th>year</th>\n",
       "      <th>pop</th>\n",
       "      <th>continent</th>\n",
       "      <th>lifeExp</th>\n",
       "      <th>gdpPercap</th>\n",
       "    </tr>\n",
       "  </thead>\n",
       "  <tbody>\n",
       "    <tr>\n",
       "      <th>0</th>\n",
       "      <td>Afghanistan</td>\n",
       "      <td>1952</td>\n",
       "      <td>8425333.0</td>\n",
       "      <td>Asia</td>\n",
       "      <td>28.801</td>\n",
       "      <td>779.445314</td>\n",
       "    </tr>\n",
       "    <tr>\n",
       "      <th>1</th>\n",
       "      <td>Afghanistan</td>\n",
       "      <td>1957</td>\n",
       "      <td>9240934.0</td>\n",
       "      <td>Asia</td>\n",
       "      <td>30.332</td>\n",
       "      <td>820.853030</td>\n",
       "    </tr>\n",
       "    <tr>\n",
       "      <th>2</th>\n",
       "      <td>Afghanistan</td>\n",
       "      <td>1962</td>\n",
       "      <td>10267083.0</td>\n",
       "      <td>Asia</td>\n",
       "      <td>31.997</td>\n",
       "      <td>853.100710</td>\n",
       "    </tr>\n",
       "    <tr>\n",
       "      <th>3</th>\n",
       "      <td>Afghanistan</td>\n",
       "      <td>1967</td>\n",
       "      <td>11537966.0</td>\n",
       "      <td>Asia</td>\n",
       "      <td>34.020</td>\n",
       "      <td>836.197138</td>\n",
       "    </tr>\n",
       "    <tr>\n",
       "      <th>4</th>\n",
       "      <td>Afghanistan</td>\n",
       "      <td>1972</td>\n",
       "      <td>13079460.0</td>\n",
       "      <td>Asia</td>\n",
       "      <td>36.088</td>\n",
       "      <td>739.981106</td>\n",
       "    </tr>\n",
       "    <tr>\n",
       "      <th>5</th>\n",
       "      <td>Afghanistan</td>\n",
       "      <td>1977</td>\n",
       "      <td>14880372.0</td>\n",
       "      <td>Asia</td>\n",
       "      <td>38.438</td>\n",
       "      <td>786.113360</td>\n",
       "    </tr>\n",
       "    <tr>\n",
       "      <th>6</th>\n",
       "      <td>Afghanistan</td>\n",
       "      <td>1982</td>\n",
       "      <td>12881816.0</td>\n",
       "      <td>Asia</td>\n",
       "      <td>39.854</td>\n",
       "      <td>978.011439</td>\n",
       "    </tr>\n",
       "    <tr>\n",
       "      <th>7</th>\n",
       "      <td>Afghanistan</td>\n",
       "      <td>1987</td>\n",
       "      <td>13867957.0</td>\n",
       "      <td>Asia</td>\n",
       "      <td>40.822</td>\n",
       "      <td>852.395945</td>\n",
       "    </tr>\n",
       "    <tr>\n",
       "      <th>8</th>\n",
       "      <td>Afghanistan</td>\n",
       "      <td>1992</td>\n",
       "      <td>16317921.0</td>\n",
       "      <td>Asia</td>\n",
       "      <td>41.674</td>\n",
       "      <td>649.341395</td>\n",
       "    </tr>\n",
       "    <tr>\n",
       "      <th>9</th>\n",
       "      <td>Afghanistan</td>\n",
       "      <td>1997</td>\n",
       "      <td>22227415.0</td>\n",
       "      <td>Asia</td>\n",
       "      <td>41.763</td>\n",
       "      <td>635.341351</td>\n",
       "    </tr>\n",
       "    <tr>\n",
       "      <th>10</th>\n",
       "      <td>Afghanistan</td>\n",
       "      <td>2002</td>\n",
       "      <td>25268405.0</td>\n",
       "      <td>Asia</td>\n",
       "      <td>42.129</td>\n",
       "      <td>726.734055</td>\n",
       "    </tr>\n",
       "    <tr>\n",
       "      <th>11</th>\n",
       "      <td>Afghanistan</td>\n",
       "      <td>2007</td>\n",
       "      <td>31889923.0</td>\n",
       "      <td>Asia</td>\n",
       "      <td>43.828</td>\n",
       "      <td>974.580338</td>\n",
       "    </tr>\n",
       "    <tr>\n",
       "      <th>12</th>\n",
       "      <td>Albania</td>\n",
       "      <td>1952</td>\n",
       "      <td>1282697.0</td>\n",
       "      <td>Europe</td>\n",
       "      <td>55.230</td>\n",
       "      <td>1601.056136</td>\n",
       "    </tr>\n",
       "    <tr>\n",
       "      <th>13</th>\n",
       "      <td>Albania</td>\n",
       "      <td>1957</td>\n",
       "      <td>1476505.0</td>\n",
       "      <td>Europe</td>\n",
       "      <td>59.280</td>\n",
       "      <td>1942.284244</td>\n",
       "    </tr>\n",
       "    <tr>\n",
       "      <th>14</th>\n",
       "      <td>Albania</td>\n",
       "      <td>1962</td>\n",
       "      <td>1728137.0</td>\n",
       "      <td>Europe</td>\n",
       "      <td>64.820</td>\n",
       "      <td>2312.888958</td>\n",
       "    </tr>\n",
       "  </tbody>\n",
       "</table>\n",
       "</div>"
      ],
      "text/plain": [
       "        country  year         pop continent  lifeExp    gdpPercap\n",
       "0   Afghanistan  1952   8425333.0      Asia   28.801   779.445314\n",
       "1   Afghanistan  1957   9240934.0      Asia   30.332   820.853030\n",
       "2   Afghanistan  1962  10267083.0      Asia   31.997   853.100710\n",
       "3   Afghanistan  1967  11537966.0      Asia   34.020   836.197138\n",
       "4   Afghanistan  1972  13079460.0      Asia   36.088   739.981106\n",
       "5   Afghanistan  1977  14880372.0      Asia   38.438   786.113360\n",
       "6   Afghanistan  1982  12881816.0      Asia   39.854   978.011439\n",
       "7   Afghanistan  1987  13867957.0      Asia   40.822   852.395945\n",
       "8   Afghanistan  1992  16317921.0      Asia   41.674   649.341395\n",
       "9   Afghanistan  1997  22227415.0      Asia   41.763   635.341351\n",
       "10  Afghanistan  2002  25268405.0      Asia   42.129   726.734055\n",
       "11  Afghanistan  2007  31889923.0      Asia   43.828   974.580338\n",
       "12      Albania  1952   1282697.0    Europe   55.230  1601.056136\n",
       "13      Albania  1957   1476505.0    Europe   59.280  1942.284244\n",
       "14      Albania  1962   1728137.0    Europe   64.820  2312.888958"
      ]
     },
     "execution_count": 21,
     "metadata": {},
     "output_type": "execute_result"
    }
   ],
   "source": [
    "data.head(15)"
   ]
  },
  {
   "cell_type": "code",
   "execution_count": 22,
   "metadata": {},
   "outputs": [
    {
     "data": {
      "text/plain": [
       "array([1952, 1957, 1962, 1967, 1972, 1977, 1982, 1987, 1992, 1997, 2002,\n",
       "       2007], dtype=int64)"
      ]
     },
     "execution_count": 22,
     "metadata": {},
     "output_type": "execute_result"
    }
   ],
   "source": [
    "data.year.unique()"
   ]
  },
  {
   "cell_type": "markdown",
   "metadata": {},
   "source": [
    "# Elegimos solo los datos del año 1982"
   ]
  },
  {
   "cell_type": "code",
   "execution_count": 30,
   "metadata": {},
   "outputs": [
    {
     "data": {
      "application/vnd.jupyter.widget-view+json": {
       "model_id": "df91a115d3eb4308bf21ea0a3f1e8c00",
       "version_major": 2,
       "version_minor": 0
      },
      "text/plain": [
       "Canvas(toolbar=Toolbar(toolitems=[('Home', 'Reset original view', 'home', 'home'), ('Back', 'Back to previous …"
      ]
     },
     "metadata": {},
     "output_type": "display_data"
    },
    {
     "data": {
      "text/plain": [
       "Text(0, 0.5, 'Producto interior bruto per cápita')"
      ]
     },
     "execution_count": 30,
     "metadata": {},
     "output_type": "execute_result"
    }
   ],
   "source": [
    "data82 = data[data.year==1982]\n",
    "\n",
    "plt.figure()\n",
    "plt.scatter(data82.lifeExp, \n",
    "            data82.gdpPercap, \n",
    "            s=data82['pop']/200000,\n",
    "            c=data82.continent.cat.codes,\n",
    "        cmap=\"Accent\",\n",
    "        alpha=0.6,\n",
    "        edgecolors=\"white\",\n",
    "        linewidth=2)\n",
    "\n",
    "plt.title('Hans Rosling - gapminder.org')\n",
    "plt.xlabel('Esperanza de vida')\n",
    "plt.ylabel('Producto interior bruto per cápita')\n",
    "plt.legend(list(data82.continent.cat.categories))"
   ]
  },
  {
   "cell_type": "code",
   "execution_count": 28,
   "metadata": {},
   "outputs": [
    {
     "data": {
      "text/plain": [
       "['Africa', 'Americas', 'Asia', 'Europe', 'Oceania']"
      ]
     },
     "execution_count": 28,
     "metadata": {},
     "output_type": "execute_result"
    }
   ],
   "source": [
    "list(data.continent.cat.categories)"
   ]
  },
  {
   "cell_type": "code",
   "execution_count": 48,
   "metadata": {},
   "outputs": [
    {
     "data": {
      "application/vnd.jupyter.widget-view+json": {
       "model_id": "df3f44f5d05446ce86a659f653b7d37d",
       "version_major": 2,
       "version_minor": 0
      },
      "text/plain": [
       "Canvas(toolbar=Toolbar(toolitems=[('Home', 'Reset original view', 'home', 'home'), ('Back', 'Back to previous …"
      ]
     },
     "metadata": {},
     "output_type": "display_data"
    },
    {
     "data": {
      "text/plain": [
       "<matplotlib.colorbar.Colorbar at 0xd19a9c8>"
      ]
     },
     "execution_count": 48,
     "metadata": {},
     "output_type": "execute_result"
    }
   ],
   "source": [
    "data_country = data[data.country == 'Spain']\n",
    "\n",
    "plt.figure()\n",
    "plt.scatter(data_country.lifeExp, \n",
    "            data_country.gdpPercap, \n",
    "            s=data_country['pop']/200000,\n",
    "            c=data_country.year,\n",
    "        cmap=\"hot\",\n",
    "        alpha=0.6,\n",
    "        edgecolors=\"red\",\n",
    "        linewidth=2)\n",
    "\n",
    "plt.title('Hans Rosling - gapminder.org')\n",
    "plt.xlabel('Esperanza de vida')\n",
    "plt.ylabel('Producto interior bruto per cápita')\n",
    "plt.colorbar()"
   ]
  },
  {
   "cell_type": "code",
   "execution_count": null,
   "metadata": {},
   "outputs": [],
   "source": []
  }
 ],
 "metadata": {
  "kernelspec": {
   "display_name": "Python 3",
   "language": "python",
   "name": "python3"
  },
  "language_info": {
   "codemirror_mode": {
    "name": "ipython",
    "version": 3
   },
   "file_extension": ".py",
   "mimetype": "text/x-python",
   "name": "python",
   "nbconvert_exporter": "python",
   "pygments_lexer": "ipython3",
   "version": "3.7.4"
  }
 },
 "nbformat": 4,
 "nbformat_minor": 4
}
