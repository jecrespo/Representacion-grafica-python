{
 "cells": [
  {
   "cell_type": "code",
   "execution_count": 1,
   "metadata": {},
   "outputs": [],
   "source": [
    "import pydot"
   ]
  },
  {
   "cell_type": "code",
   "execution_count": 10,
   "metadata": {},
   "outputs": [
    {
     "ename": "TypeError",
     "evalue": "'builtin_function_or_method' object is not subscriptable",
     "output_type": "error",
     "traceback": [
      "\u001b[0;31m---------------------------------------------------------------------------\u001b[0m",
      "\u001b[0;31mTypeError\u001b[0m                                 Traceback (most recent call last)",
      "\u001b[0;32m<ipython-input-10-24cc787f9e4b>\u001b[0m in \u001b[0;36m<module>\u001b[0;34m\u001b[0m\n\u001b[1;32m      6\u001b[0m \u001b[0mos\u001b[0m\u001b[0;34m.\u001b[0m\u001b[0menviron\u001b[0m\u001b[0;34m[\u001b[0m\u001b[0;34m'PATH'\u001b[0m\u001b[0;34m]\u001b[0m \u001b[0;34m+=\u001b[0m \u001b[0;34mr';/usr/local/bin/dot;'\u001b[0m\u001b[0;34m\u001b[0m\u001b[0;34m\u001b[0m\u001b[0m\n\u001b[1;32m      7\u001b[0m \u001b[0mclf\u001b[0m \u001b[0;34m=\u001b[0m \u001b[0mtree\u001b[0m\u001b[0;34m.\u001b[0m\u001b[0mDecisionTreeClassifier\u001b[0m\u001b[0;34m(\u001b[0m\u001b[0;34m)\u001b[0m\u001b[0;34m\u001b[0m\u001b[0;34m\u001b[0m\u001b[0m\n\u001b[0;32m----> 8\u001b[0;31m \u001b[0mclf\u001b[0m \u001b[0;34m=\u001b[0m \u001b[0mclf\u001b[0m\u001b[0;34m.\u001b[0m\u001b[0mfit\u001b[0m\u001b[0;34m(\u001b[0m\u001b[0miris\u001b[0m\u001b[0;34m.\u001b[0m\u001b[0mvalues\u001b[0m\u001b[0;34m[\u001b[0m\u001b[0;34m:\u001b[0m\u001b[0;34m,\u001b[0m\u001b[0;34m:\u001b[0m\u001b[0;34m-\u001b[0m\u001b[0;36m1\u001b[0m\u001b[0;34m]\u001b[0m\u001b[0;34m,\u001b[0m\u001b[0miris\u001b[0m\u001b[0;34m.\u001b[0m\u001b[0mspecies\u001b[0m\u001b[0;34m)\u001b[0m\u001b[0;34m\u001b[0m\u001b[0;34m\u001b[0m\u001b[0m\n\u001b[0m\u001b[1;32m      9\u001b[0m \u001b[0;31m# Visualize data\u001b[0m\u001b[0;34m\u001b[0m\u001b[0;34m\u001b[0m\u001b[0;34m\u001b[0m\u001b[0m\n\u001b[1;32m     10\u001b[0m dot_data = tree.export_graphviz(clf,\n",
      "\u001b[0;31mTypeError\u001b[0m: 'builtin_function_or_method' object is not subscriptable"
     ]
    }
   ],
   "source": [
    "import os\n",
    "from sklearn import tree\n",
    "from sklearn import datasets\n",
    "from sklearn import svm\n",
    "iris = datasets.load_iris() \n",
    "os.environ['PATH'] += r';/usr/local/bin/dot;'\n",
    "clf = tree.DecisionTreeClassifier()\n",
    "clf = clf.fit(iris.values[:,:-1],iris.species)\n",
    "# Visualize data\n",
    "dot_data = tree.export_graphviz(clf,\n",
    "                                feature_names=iris.columns[:-1],\n",
    "                                class_names = list(iris.species.unique()),\n",
    "                                out_file=None,\n",
    "                                filled=True,\n",
    "                                rounded=True)\n",
    "graph, = pydot.graph_from_dot_data(dot_data)\n",
    "graph.write_png('tree.png')"
   ]
  },
  {
   "cell_type": "code",
   "execution_count": 3,
   "metadata": {},
   "outputs": [
    {
     "data": {
      "text/plain": [
       "environ{'SHELL': '/bin/bash',\n",
       "        'TMPDIR': '/var/folders/yy/js6k019n0xbg51n83xcjldlm0000gn/T/',\n",
       "        'Apple_PubSub_Socket_Render': '/private/tmp/com.apple.launchd.CtKIXB5t76/Render',\n",
       "        'CONDA_SHLVL': '2',\n",
       "        'CONDA_PROMPT_MODIFIER': '(python37) ',\n",
       "        'LC_ALL': 'en_US.UTF-8',\n",
       "        'USER': 'ecrespo',\n",
       "        'CONDA_EXE': '/anaconda3/bin/conda',\n",
       "        'SSH_AUTH_SOCK': '/private/tmp/com.apple.launchd.TSnblgsYLX/Listeners',\n",
       "        '__CF_USER_TEXT_ENCODING': '0x1F5:0x0:0x8',\n",
       "        '_CE_CONDA': '',\n",
       "        'CONDA_PREFIX_1': '/anaconda3',\n",
       "        'CONDA_ROOT': '/anaconda3',\n",
       "        'PATH': '/anaconda3/envs/python37/bin:/anaconda3/condabin:/usr/bin:/bin:/usr/sbin:/sbin;/usr/local/bin/dot;',\n",
       "        'CONDA_PREFIX': '/anaconda3/envs/python37',\n",
       "        'PWD': '/Users/ecrespo',\n",
       "        'LANG': 'en_US.UTF-8',\n",
       "        'XPC_FLAGS': '0x0',\n",
       "        'XPC_SERVICE_NAME': '0',\n",
       "        '_CE_M': '',\n",
       "        'HOME': '/Users/ecrespo',\n",
       "        'SHLVL': '2',\n",
       "        'LOGNAME': 'ecrespo',\n",
       "        'CONDA_PYTHON_EXE': '/anaconda3/bin/python',\n",
       "        'CONDA_DEFAULT_ENV': 'python37',\n",
       "        '_': '/anaconda3/envs/python37/bin/jupyter',\n",
       "        'JPY_PARENT_PID': '18149',\n",
       "        'TERM': 'xterm-color',\n",
       "        'CLICOLOR': '1',\n",
       "        'PAGER': 'cat',\n",
       "        'GIT_PAGER': 'cat',\n",
       "        'MPLBACKEND': 'module://ipykernel.pylab.backend_inline'}"
      ]
     },
     "execution_count": 3,
     "metadata": {},
     "output_type": "execute_result"
    }
   ],
   "source": [
    "os.environ"
   ]
  },
  {
   "cell_type": "code",
   "execution_count": 4,
   "metadata": {},
   "outputs": [
    {
     "data": {
      "text/plain": [
       "'/anaconda3/envs/python37/bin:/anaconda3/condabin:/usr/bin:/bin:/usr/sbin:/sbin;/usr/local/bin/dot;'"
      ]
     },
     "execution_count": 4,
     "metadata": {},
     "output_type": "execute_result"
    }
   ],
   "source": [
    "os.environ['PATH']"
   ]
  },
  {
   "cell_type": "code",
   "execution_count": null,
   "metadata": {},
   "outputs": [],
   "source": []
  }
 ],
 "metadata": {
  "kernelspec": {
   "display_name": "Python 3",
   "language": "python",
   "name": "python3"
  },
  "language_info": {
   "codemirror_mode": {
    "name": "ipython",
    "version": 3
   },
   "file_extension": ".py",
   "mimetype": "text/x-python",
   "name": "python",
   "nbconvert_exporter": "python",
   "pygments_lexer": "ipython3",
   "version": "3.7.4"
  }
 },
 "nbformat": 4,
 "nbformat_minor": 4
}
